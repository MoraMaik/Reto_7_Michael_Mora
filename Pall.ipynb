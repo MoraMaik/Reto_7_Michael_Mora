{
 "cells": [
  {
   "cell_type": "markdown",
   "metadata": {},
   "source": [
    "# P1"
   ]
  },
  {
   "cell_type": "code",
   "execution_count": null,
   "metadata": {},
   "outputs": [],
   "source": [
    "# Inicializamos una bandera y un contador\n",
    "continuar = True\n",
    "numero = 1\n",
    "# Usamos un ciclo while que se ejecuta mientras la bandera sea True\n",
    "while continuar:\n",
    "    # Imprime el número y su cuadrado\n",
    "    print(f\"{numero} - {numero**2}\")\n",
    "    # Incrementamos el número para la próxima iteración\n",
    "    numero += 1\n",
    "    # Verificamos si debemos detener el ciclo\n",
    "    if numero > 100:\n",
    "        continuar = False"
   ]
  },
  {
   "cell_type": "markdown",
   "metadata": {},
   "source": [
    "# P2"
   ]
  },
  {
   "cell_type": "code",
   "execution_count": null,
   "metadata": {},
   "outputs": [],
   "source": [
    "# Inicializamos las variables\n",
    "numero = 1\n",
    "imprimir_impares = True  # Bandera para controlar cuándo imprimir números impares\n",
    "# Usamos un ciclo while que se ejecuta mientras el número sea menor o igual a 1000\n",
    "while numero <= 1000:\n",
    "    if imprimir_impares:\n",
    "        # Imprime el número si es impar\n",
    "        if numero % 2 != 0:\n",
    "            print(numero)\n",
    "        # Cambia la bandera para empezar a imprimir pares cuando llegamos a 999\n",
    "        if numero == 999:\n",
    "            imprimir_impares = False\n",
    "    else:\n",
    "        # Imprime el número si es par\n",
    "        if numero % 2 == 0:\n",
    "            print(numero)\n",
    "    # Incrementamos el número para la próxima iteración\n",
    "    numero += 1"
   ]
  },
  {
   "cell_type": "markdown",
   "metadata": {},
   "source": [
    "# P3"
   ]
  },
  {
   "cell_type": "code",
   "execution_count": null,
   "metadata": {},
   "outputs": [],
   "source": [
    "# Solicitamos al usuario que ingrese un número natural n.\n",
    "n = int(input(\"Ingrese un número natural n (n ≥ 2): \"))\n",
    "# Verificamos si n cumple con la condición de ser mayor o igual a 2.\n",
    "if n < 2:\n",
    "    print(\"El número ingresado no cumple con la condición (n ≥ 2).\")\n",
    "else:\n",
    "    # Ajustamos n al número par más cercano menor o igual a n.\n",
    "    if n % 2 != 0:\n",
    "        n -= 1\n",
    "    # Utilizamos una bandera para controlar el ciclo while.\n",
    "    continuar = True\n",
    "    # Iniciamos el ciclo while.\n",
    "    while continuar:\n",
    "        print(n)\n",
    "        # Decrementamos n en 2 para obtener el próximo número par descendente.\n",
    "        n -= 2\n",
    "        # Si n es menor que 2, cambiamos la bandera para detener el ciclo.\n",
    "        if n < 2:\n",
    "            continuar = False"
   ]
  },
  {
   "cell_type": "markdown",
   "metadata": {},
   "source": [
    "# P4"
   ]
  },
  {
   "cell_type": "code",
   "execution_count": null,
   "metadata": {},
   "outputs": [],
   "source": [
    "# Inicialización de variables\n",
    "poblacion_a = 25e6  # 25 millones de habitantes\n",
    "poblacion_b = 18.9e6  # 18.9 millones de habitantes\n",
    "tasa_crecimiento_a = 0.02  # Tasa de crecimiento anual del 2%\n",
    "tasa_crecimiento_b = 0.03  # Tasa de crecimiento anual del 3%\n",
    "ano_actual = 2022  # Año de inicio\n",
    "# Ciclo while para calcular el año en que la población de B supera a la de A\n",
    "while poblacion_b <= poblacion_a:\n",
    "    # Actualización de poblaciones según las tasas de crecimiento\n",
    "    poblacion_a += poblacion_a * tasa_crecimiento_a\n",
    "    poblacion_b += poblacion_b * tasa_crecimiento_b\n",
    "    # Incremento del año\n",
    "    ano_actual += 1\n",
    "# Imprimir el año en que la población de B supera a la de A\n",
    "print(f\"En el año {ano_actual}, la población del país B superará a la de A.\")"
   ]
  },
  {
   "cell_type": "markdown",
   "metadata": {},
   "source": [
    "# P5"
   ]
  },
  {
   "cell_type": "code",
   "execution_count": null,
   "metadata": {},
   "outputs": [],
   "source": [
    "# Solicitar al usuario que ingrese un número natural n\n",
    "n = int(input(\"Ingrese un número natural n para calcular su factorial: \"))\n",
    "# Inicializar la variable factorial\n",
    "factorial = 1\n",
    "# Verificar si el número es negativo, cero o positivo\n",
    "if n < 0:\n",
    "    print(\"El factorial no se define para números negativos.\")\n",
    "else:\n",
    "    # Calcular el factorial usando un ciclo while\n",
    "    numero_actual = n\n",
    "    while numero_actual > 1:\n",
    "        factorial *= numero_actual\n",
    "        numero_actual -= 1\n",
    "    # Imprimir el resultado\n",
    "    print(f\"El factorial de {n} es {factorial}.\")"
   ]
  },
  {
   "cell_type": "markdown",
   "metadata": {},
   "source": [
    "# P6"
   ]
  },
  {
   "cell_type": "code",
   "execution_count": null,
   "metadata": {},
   "outputs": [],
   "source": [
    "# Inicializar los límites inferior y superior del rango de números.\n",
    "limite_inferior = 1\n",
    "limite_superior = 100\n",
    "# Iniciar el ciclo de adivinación.\n",
    "while True:\n",
    "    # Calcular el punto medio como nuestro próximo número a adivinar.\n",
    "    intento = (limite_inferior + limite_superior) // 2\n",
    "    # Preguntar al usuario sobre el intento.\n",
    "    respuesta = input(f\"¿El número es {intento}? (responde 'mayor', 'menor', 'igual'): \").lower()\n",
    "    # Ajustar el rango basado en la respuesta.\n",
    "    if respuesta == \"mayor\":\n",
    "        limite_inferior = intento + 1\n",
    "    elif respuesta == \"menor\":\n",
    "        limite_superior = intento - 1\n",
    "    elif respuesta == \"igual\":\n",
    "        print(f\"¡Adiviné! Tu número es {intento}.\")\n",
    "        break\n",
    "    else:\n",
    "        print(\"Respuesta no válida. Por favor, responde 'mayor', 'menor' o 'igual'.\")\n",
    "    # Si se cruzan los límites, significa que ha habido un error en las respuestas dadas.\n",
    "    if limite_inferior > limite_superior:\n",
    "        print(\"Parece que ha habido un error en las respuestas. No se puede adivinar bajo estas condiciones.\")\n",
    "        break"
   ]
  },
  {
   "cell_type": "markdown",
   "metadata": {},
   "source": [
    "# P7"
   ]
  },
  {
   "cell_type": "code",
   "execution_count": null,
   "metadata": {},
   "outputs": [],
   "source": [
    "# Solicitar al usuario que ingrese un número entre 2 y 50\n",
    "numero = int(input(\"Ingrese un número entre 2 y 50: \"))\n",
    "# Verificar que el número esté en el rango permitido\n",
    "if numero < 2 or numero > 50:\n",
    "    print(\"El número ingresado no está en el rango permitido.\")\n",
    "else:\n",
    "    print(f\"Divisores de {numero}:\")\n",
    "    # Utilizar un ciclo for para encontrar los divisores del número\n",
    "    for divisor in range(1, numero + 1):\n",
    "        # Si el número es divisible por divisor, imprimirlo\n",
    "        if numero % divisor == 0:\n",
    "            print(divisor)"
   ]
  },
  {
   "cell_type": "markdown",
   "metadata": {},
   "source": [
    "# P8    "
   ]
  },
  {
   "cell_type": "code",
   "execution_count": null,
   "metadata": {},
   "outputs": [],
   "source": [
    "# Definir la función que verifica si un número es primo\n",
    "def es_primo(numero):\n",
    "    if numero < 2:\n",
    "        return False\n",
    "    for divisor in range(2, int(numero**0.5) + 1):\n",
    "        if numero % divisor == 0:\n",
    "            return False\n",
    "    return True\n",
    "# Inicializar el número de inicio\n",
    "numero = 1\n",
    "# Utilizar un ciclo while para iterar a través de los números del 1 al 100\n",
    "while numero <= 100:\n",
    "    if es_primo(numero):\n",
    "        print(numero)\n",
    "    numero += 1"
   ]
  }
 ],
 "metadata": {
  "kernelspec": {
   "display_name": "Python 3",
   "language": "python",
   "name": "python3"
  },
  "language_info": {
   "codemirror_mode": {
    "name": "ipython",
    "version": 3
   },
   "file_extension": ".py",
   "mimetype": "text/x-python",
   "name": "python",
   "nbconvert_exporter": "python",
   "pygments_lexer": "ipython3",
   "version": "3.12.2"
  }
 },
 "nbformat": 4,
 "nbformat_minor": 2
}
