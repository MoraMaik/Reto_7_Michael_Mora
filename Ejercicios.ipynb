{
 "cells": [
  {
   "cell_type": "markdown",
   "metadata": {},
   "source": [
    "# Ejercicio 1"
   ]
  },
  {
   "cell_type": "code",
   "execution_count": 1,
   "metadata": {},
   "outputs": [
    {
     "name": "stdout",
     "output_type": "stream",
     "text": [
      "Fin del programa. Nunca entramos al ciclo while.\n"
     ]
    }
   ],
   "source": [
    "# Inicializamos una condición que nunca permite entrar al ciclo\n",
    "condicion = False\n",
    "\n",
    "while condicion:\n",
    "    # Este bloque de código nunca se ejecutará\n",
    "    print(\"Este mensaje nunca se mostrará.\")\n",
    "# Imprime un mensaje en consola una vez que el programa sale del ciclo while.\n",
    "# Como el ciclo while nunca se ejecuta, este será el único mensaje mostrado por el programa.\n",
    "print(\"Fin del programa. Nunca entramos al ciclo while.\")"
   ]
  },
  {
   "cell_type": "markdown",
   "metadata": {},
   "source": [
    "# Ejercicio 2   "
   ]
  },
  {
   "cell_type": "code",
   "execution_count": null,
   "metadata": {},
   "outputs": [],
   "source": [
    "# Ciclo while infinito\n",
    "while True:\n",
    "    print(\"Este ciclo se ejecutará indefinidamente.\")\n",
    "    # Descomentar para ralentizar la ejecución: \n",
    "    # import time; time.sleep(1)"
   ]
  },
  {
   "cell_type": "markdown",
   "metadata": {},
   "source": [
    "# Ejercicio 3"
   ]
  },
  {
   "cell_type": "code",
   "execution_count": 5,
   "metadata": {},
   "outputs": [
    {
     "name": "stdout",
     "output_type": "stream",
     "text": [
      "El valor 69 es el código ASCII de una letra mayúscula.\n"
     ]
    }
   ],
   "source": [
    "# Solicita un valor entero al usuario y verifica si representa una letra mayúscula en el abecedario inglés.\n",
    "\n",
    "while True:\n",
    "    # Solicita al usuario que ingrese un valor.\n",
    "    valor = input(\"Ingresa un valor entero (o 'salir' para finalizar): \")\n",
    "    \n",
    "    # Permite al usuario salir del ciclo escribiendo 'salir'.\n",
    "    if valor.lower() == 'salir':\n",
    "        break\n",
    "\n",
    "    try:\n",
    "        # Intenta convertir el valor ingresado a entero.\n",
    "        valor_entero = int(valor)\n",
    "        \n",
    "        # Verifica si el valor entero está en el rango ASCII de las letras mayúsculas A-Z.\n",
    "        if 65 <= valor_entero <= 90:\n",
    "            print(f\"El valor {valor_entero} es el código ASCII de una letra mayúscula.\")\n",
    "        else:\n",
    "            # Si el valor no está en el rango, imprime un mensaje y termina el ciclo.\n",
    "            print(f\"El valor {valor_entero} no corresponde a una letra mayúscula. Fin del programa.\")\n",
    "            break\n",
    "    except ValueError:\n",
    "        # Maneja el caso de que el valor no pueda convertirse a entero.\n",
    "        print(\"Por favor, ingresa un valor entero o escribe 'salir' para finalizar.\")\n"
   ]
  }
 ],
 "metadata": {
  "kernelspec": {
   "display_name": "Python 3",
   "language": "python",
   "name": "python3"
  },
  "language_info": {
   "codemirror_mode": {
    "name": "ipython",
    "version": 3
   },
   "file_extension": ".py",
   "mimetype": "text/x-python",
   "name": "python",
   "nbconvert_exporter": "python",
   "pygments_lexer": "ipython3",
   "version": "3.12.2"
  }
 },
 "nbformat": 4,
 "nbformat_minor": 2
}
